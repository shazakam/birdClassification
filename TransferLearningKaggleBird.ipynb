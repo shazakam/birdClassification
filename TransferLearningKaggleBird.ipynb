{
  "nbformat": 4,
  "nbformat_minor": 0,
  "metadata": {
    "colab": {
      "provenance": [],
      "gpuType": "T4"
    },
    "kernelspec": {
      "name": "python3",
      "display_name": "Python 3"
    },
    "language_info": {
      "name": "python"
    },
    "accelerator": "GPU"
  },
  "cells": [
    {
      "cell_type": "code",
      "execution_count": 2,
      "metadata": {
        "colab": {
          "base_uri": "https://localhost:8080/"
        },
        "id": "F1RtxkG6qlfG",
        "outputId": "ed4d2bc7-199b-4efe-d40b-44feb19f35b7"
      },
      "outputs": [
        {
          "output_type": "stream",
          "name": "stdout",
          "text": [
            "Collecting opendatasets\n",
            "  Downloading opendatasets-0.1.22-py3-none-any.whl (15 kB)\n",
            "Requirement already satisfied: tqdm in /usr/local/lib/python3.10/dist-packages (from opendatasets) (4.66.2)\n",
            "Requirement already satisfied: kaggle in /usr/local/lib/python3.10/dist-packages (from opendatasets) (1.5.16)\n",
            "Requirement already satisfied: click in /usr/local/lib/python3.10/dist-packages (from opendatasets) (8.1.7)\n",
            "Requirement already satisfied: six>=1.10 in /usr/local/lib/python3.10/dist-packages (from kaggle->opendatasets) (1.16.0)\n",
            "Requirement already satisfied: certifi in /usr/local/lib/python3.10/dist-packages (from kaggle->opendatasets) (2024.2.2)\n",
            "Requirement already satisfied: python-dateutil in /usr/local/lib/python3.10/dist-packages (from kaggle->opendatasets) (2.8.2)\n",
            "Requirement already satisfied: requests in /usr/local/lib/python3.10/dist-packages (from kaggle->opendatasets) (2.31.0)\n",
            "Requirement already satisfied: python-slugify in /usr/local/lib/python3.10/dist-packages (from kaggle->opendatasets) (8.0.4)\n",
            "Requirement already satisfied: urllib3 in /usr/local/lib/python3.10/dist-packages (from kaggle->opendatasets) (2.0.7)\n",
            "Requirement already satisfied: bleach in /usr/local/lib/python3.10/dist-packages (from kaggle->opendatasets) (6.1.0)\n",
            "Requirement already satisfied: webencodings in /usr/local/lib/python3.10/dist-packages (from bleach->kaggle->opendatasets) (0.5.1)\n",
            "Requirement already satisfied: text-unidecode>=1.3 in /usr/local/lib/python3.10/dist-packages (from python-slugify->kaggle->opendatasets) (1.3)\n",
            "Requirement already satisfied: charset-normalizer<4,>=2 in /usr/local/lib/python3.10/dist-packages (from requests->kaggle->opendatasets) (3.3.2)\n",
            "Requirement already satisfied: idna<4,>=2.5 in /usr/local/lib/python3.10/dist-packages (from requests->kaggle->opendatasets) (3.6)\n",
            "Installing collected packages: opendatasets\n",
            "Successfully installed opendatasets-0.1.22\n"
          ]
        }
      ],
      "source": [
        "!pip install opendatasets --upgrade"
      ]
    },
    {
      "cell_type": "code",
      "source": [
        "import os\n",
        "os.getcwd()"
      ],
      "metadata": {
        "colab": {
          "base_uri": "https://localhost:8080/",
          "height": 35
        },
        "id": "hvZU3ja2tn9Q",
        "outputId": "bca042c7-854f-42ba-e54c-56bf523e2c9d"
      },
      "execution_count": 3,
      "outputs": [
        {
          "output_type": "execute_result",
          "data": {
            "text/plain": [
              "'/content'"
            ],
            "application/vnd.google.colaboratory.intrinsic+json": {
              "type": "string"
            }
          },
          "metadata": {},
          "execution_count": 3
        }
      ]
    },
    {
      "cell_type": "code",
      "source": [
        "import torch\n",
        "import pandas as pd\n",
        "import numpy as np\n",
        "import imageio as iio\n",
        "import matplotlib.pyplot as plt\n",
        "import matplotlib.image as mpimg\n",
        "from dataFunctions import *\n",
        "from torch.utils.data import DataLoader\n",
        "import torch\n",
        "from torch.autograd import Variable\n",
        "import torch.nn as nn\n",
        "import torch.nn.functional as F\n",
        "from torch.optim import *\n",
        "from tqdm import tqdm\n",
        "import os\n",
        "import torchvision\n",
        "%load_ext autoreload\n",
        "\n",
        "%autoreload 2"
      ],
      "metadata": {
        "id": "gHuJ_IjCtUyE",
        "colab": {
          "base_uri": "https://localhost:8080/",
          "height": 393
        },
        "outputId": "b6b066c4-8386-4910-c3c1-30f1d1f3dc9f"
      },
      "execution_count": 4,
      "outputs": [
        {
          "output_type": "error",
          "ename": "ModuleNotFoundError",
          "evalue": "No module named 'dataFunctions'",
          "traceback": [
            "\u001b[0;31m---------------------------------------------------------------------------\u001b[0m",
            "\u001b[0;31mModuleNotFoundError\u001b[0m                       Traceback (most recent call last)",
            "\u001b[0;32m<ipython-input-4-7bb72c2387ac>\u001b[0m in \u001b[0;36m<cell line: 7>\u001b[0;34m()\u001b[0m\n\u001b[1;32m      5\u001b[0m \u001b[0;32mimport\u001b[0m \u001b[0mmatplotlib\u001b[0m\u001b[0;34m.\u001b[0m\u001b[0mpyplot\u001b[0m \u001b[0;32mas\u001b[0m \u001b[0mplt\u001b[0m\u001b[0;34m\u001b[0m\u001b[0;34m\u001b[0m\u001b[0m\n\u001b[1;32m      6\u001b[0m \u001b[0;32mimport\u001b[0m \u001b[0mmatplotlib\u001b[0m\u001b[0;34m.\u001b[0m\u001b[0mimage\u001b[0m \u001b[0;32mas\u001b[0m \u001b[0mmpimg\u001b[0m\u001b[0;34m\u001b[0m\u001b[0;34m\u001b[0m\u001b[0m\n\u001b[0;32m----> 7\u001b[0;31m \u001b[0;32mfrom\u001b[0m \u001b[0mdataFunctions\u001b[0m \u001b[0;32mimport\u001b[0m \u001b[0;34m*\u001b[0m\u001b[0;34m\u001b[0m\u001b[0;34m\u001b[0m\u001b[0m\n\u001b[0m\u001b[1;32m      8\u001b[0m \u001b[0;32mfrom\u001b[0m \u001b[0mtorch\u001b[0m\u001b[0;34m.\u001b[0m\u001b[0mutils\u001b[0m\u001b[0;34m.\u001b[0m\u001b[0mdata\u001b[0m \u001b[0;32mimport\u001b[0m \u001b[0mDataLoader\u001b[0m\u001b[0;34m\u001b[0m\u001b[0;34m\u001b[0m\u001b[0m\n\u001b[1;32m      9\u001b[0m \u001b[0;32mimport\u001b[0m \u001b[0mtorch\u001b[0m\u001b[0;34m\u001b[0m\u001b[0;34m\u001b[0m\u001b[0m\n",
            "\u001b[0;31mModuleNotFoundError\u001b[0m: No module named 'dataFunctions'",
            "",
            "\u001b[0;31m---------------------------------------------------------------------------\u001b[0;32m\nNOTE: If your import is failing due to a missing package, you can\nmanually install dependencies using either !pip or !apt.\n\nTo view examples of installing some common dependencies, click the\n\"Open Examples\" button below.\n\u001b[0;31m---------------------------------------------------------------------------\u001b[0m\n"
          ],
          "errorDetails": {
            "actions": [
              {
                "action": "open_url",
                "actionText": "Open Examples",
                "url": "/notebooks/snippets/importing_libraries.ipynb"
              }
            ]
          }
        }
      ]
    },
    {
      "cell_type": "markdown",
      "source": [
        "# Load in Kaggle Bird Dataset"
      ],
      "metadata": {
        "id": "5ZRbQokuSWPo"
      }
    },
    {
      "cell_type": "code",
      "source": [
        "import opendatasets as od\n",
        "dataset_url = 'https://www.kaggle.com/datasets/gpiosenka/100-bird-species'\n",
        "od.download(dataset_url)"
      ],
      "metadata": {
        "colab": {
          "base_uri": "https://localhost:8080/",
          "height": 357
        },
        "id": "1vZELmPysTaC",
        "outputId": "cab9f64b-ad72-47f8-84d5-f1c911142277"
      },
      "execution_count": 1,
      "outputs": [
        {
          "output_type": "error",
          "ename": "ModuleNotFoundError",
          "evalue": "No module named 'opendatasets'",
          "traceback": [
            "\u001b[0;31m---------------------------------------------------------------------------\u001b[0m",
            "\u001b[0;31mModuleNotFoundError\u001b[0m                       Traceback (most recent call last)",
            "\u001b[0;32m<ipython-input-1-8bad00cc0620>\u001b[0m in \u001b[0;36m<cell line: 1>\u001b[0;34m()\u001b[0m\n\u001b[0;32m----> 1\u001b[0;31m \u001b[0;32mimport\u001b[0m \u001b[0mopendatasets\u001b[0m \u001b[0;32mas\u001b[0m \u001b[0mod\u001b[0m\u001b[0;34m\u001b[0m\u001b[0;34m\u001b[0m\u001b[0m\n\u001b[0m\u001b[1;32m      2\u001b[0m \u001b[0mdataset_url\u001b[0m \u001b[0;34m=\u001b[0m \u001b[0;34m'https://www.kaggle.com/datasets/gpiosenka/100-bird-species'\u001b[0m\u001b[0;34m\u001b[0m\u001b[0;34m\u001b[0m\u001b[0m\n\u001b[1;32m      3\u001b[0m \u001b[0mod\u001b[0m\u001b[0;34m.\u001b[0m\u001b[0mdownload\u001b[0m\u001b[0;34m(\u001b[0m\u001b[0mdataset_url\u001b[0m\u001b[0;34m)\u001b[0m\u001b[0;34m\u001b[0m\u001b[0;34m\u001b[0m\u001b[0m\n",
            "\u001b[0;31mModuleNotFoundError\u001b[0m: No module named 'opendatasets'",
            "",
            "\u001b[0;31m---------------------------------------------------------------------------\u001b[0;32m\nNOTE: If your import is failing due to a missing package, you can\nmanually install dependencies using either !pip or !apt.\n\nTo view examples of installing some common dependencies, click the\n\"Open Examples\" button below.\n\u001b[0;31m---------------------------------------------------------------------------\u001b[0m\n"
          ],
          "errorDetails": {
            "actions": [
              {
                "action": "open_url",
                "actionText": "Open Examples",
                "url": "/notebooks/snippets/importing_libraries.ipynb"
              }
            ]
          }
        }
      ]
    },
    {
      "cell_type": "code",
      "source": [
        "df = pd.read_csv('train_info.csv')\n",
        "df = pd.DataFrame(df.values[::10], columns = df.columns)\n",
        "df.to_csv('training.csv')"
      ],
      "metadata": {
        "id": "nexIb1bNsWva"
      },
      "execution_count": null,
      "outputs": []
    },
    {
      "cell_type": "code",
      "source": [
        "train_images = BirdImageDataset('training.csv')\n",
        "test_image = BirdImageDataset('test_info.csv')"
      ],
      "metadata": {
        "id": "8d440aNauWPr"
      },
      "execution_count": null,
      "outputs": []
    },
    {
      "cell_type": "code",
      "source": [
        "train_loader = DataLoader(train_images, batch_size= 32, shuffle= True)\n",
        "test_loader = DataLoader(test_image, batch_size= 32, shuffle= True)"
      ],
      "metadata": {
        "id": "sqHugvj5uac6"
      },
      "execution_count": null,
      "outputs": []
    },
    {
      "cell_type": "code",
      "source": [
        "next(iter(train_loader))[1].shape"
      ],
      "metadata": {
        "colab": {
          "base_uri": "https://localhost:8080/"
        },
        "id": "tl6od_pIucZ1",
        "outputId": "c5f4a2e0-2fe4-4d47-95e4-b7ff425224f0"
      },
      "execution_count": null,
      "outputs": [
        {
          "output_type": "execute_result",
          "data": {
            "text/plain": [
              "torch.Size([32, 525])"
            ]
          },
          "metadata": {},
          "execution_count": 10
        }
      ]
    },
    {
      "cell_type": "code",
      "source": [
        "birds = pd.read_csv(r'birds.csv', sep = ',')\n",
        "birds[birds['data set'] == 'valid'].to_csv('valid_info.csv')"
      ],
      "metadata": {
        "id": "aez68tURueT6"
      },
      "execution_count": null,
      "outputs": []
    },
    {
      "cell_type": "code",
      "source": [
        "label_map = sorted(dict(zip(birds['class id'].unique(), birds['labels'].unique())).items())\n",
        "label_map"
      ],
      "metadata": {
        "id": "GR_OClAMuw8H"
      },
      "execution_count": null,
      "outputs": []
    },
    {
      "cell_type": "code",
      "source": [
        "label = torch.zeros(525)\n",
        "label[int(birds['class id'].iloc[8000])] = 1"
      ],
      "metadata": {
        "id": "07MwbpfEuz-X"
      },
      "execution_count": null,
      "outputs": []
    },
    {
      "cell_type": "code",
      "source": [
        "img_labels = pd.read_csv('train_info.csv')\n",
        "def change_path(filepath):\n",
        "        els = filepath.split('/')\n",
        "        els[1] = 'PARAKETT  AUKLET'\n",
        "        return os.path.join(*els)\n",
        "\n",
        "img_labels.loc[img_labels['labels'] == 'PARAKETT  AKULET', 'filepaths'] =  img_labels.loc[img_labels['labels'] == 'PARAKETT  AKULET', 'filepaths'].map(change_path)\n"
      ],
      "metadata": {
        "id": "g3cubD5svSiD"
      },
      "execution_count": null,
      "outputs": []
    },
    {
      "cell_type": "code",
      "source": [
        "#Definition of hyperparameters\n",
        "n_iters = 4500\n",
        "num_epochs = 100\n",
        "\n",
        "# Option 1: passing weights param as string\n",
        "model = torchvision.models.resnet18(weights = 'IMAGENET1K_V1')\n",
        "model_requires_grad_params = []\n",
        "for param in model.parameters():\n",
        "    param.requires_grad = False\n",
        "\n",
        "class FFClassifier(nn.Module):\n",
        "    def __init__(self, in_features, out_features):\n",
        "        super().__init__()\n",
        "        self.fc1 = nn.Linear(in_features, out_features)\n",
        "        self.drop = nn.Dropout(0.2)\n",
        "\n",
        "    def forward(self, x):\n",
        "        x = self.drop(x)\n",
        "        x = self.fc1(x)\n",
        "\n",
        "        x = F.log_softmax(x, dim=1)\n",
        "        return x\n",
        "\n",
        "model.fc = FFClassifier(in_features=512, out_features=525)\n",
        "\n",
        "\n",
        "for param in model.parameters():\n",
        "\n",
        "    if param.requires_grad == True:\n",
        "        model_requires_grad_params.append(param)\n",
        "\n",
        "model.cuda()\n",
        "print(model)\n",
        "\n",
        "# Cross Entropy Loss\n",
        "l = nn.CrossEntropyLoss()\n",
        "\n",
        "# Optimizer\n",
        "learning_rate = 0.001\n",
        "optimizer = torch.optim.AdamW(model.parameters(), lr=learning_rate, weight_decay=0.1)\n",
        "\n",
        "device = (\n",
        "    \"cuda\"\n",
        "    if torch.cuda.is_available()\n",
        "    else \"mps\"\n",
        "    if torch.backends.mps.is_available()\n",
        "    else \"cpu\"\n",
        ")\n",
        "print(f\"Using {device} device\")"
      ],
      "metadata": {
        "colab": {
          "base_uri": "https://localhost:8080/"
        },
        "id": "f49S1nbYvcC1",
        "outputId": "549d9832-2ca5-45c9-f5c2-c4d76e7d7fb5"
      },
      "execution_count": null,
      "outputs": [
        {
          "output_type": "stream",
          "name": "stdout",
          "text": [
            "ResNet(\n",
            "  (conv1): Conv2d(3, 64, kernel_size=(7, 7), stride=(2, 2), padding=(3, 3), bias=False)\n",
            "  (bn1): BatchNorm2d(64, eps=1e-05, momentum=0.1, affine=True, track_running_stats=True)\n",
            "  (relu): ReLU(inplace=True)\n",
            "  (maxpool): MaxPool2d(kernel_size=3, stride=2, padding=1, dilation=1, ceil_mode=False)\n",
            "  (layer1): Sequential(\n",
            "    (0): BasicBlock(\n",
            "      (conv1): Conv2d(64, 64, kernel_size=(3, 3), stride=(1, 1), padding=(1, 1), bias=False)\n",
            "      (bn1): BatchNorm2d(64, eps=1e-05, momentum=0.1, affine=True, track_running_stats=True)\n",
            "      (relu): ReLU(inplace=True)\n",
            "      (conv2): Conv2d(64, 64, kernel_size=(3, 3), stride=(1, 1), padding=(1, 1), bias=False)\n",
            "      (bn2): BatchNorm2d(64, eps=1e-05, momentum=0.1, affine=True, track_running_stats=True)\n",
            "    )\n",
            "    (1): BasicBlock(\n",
            "      (conv1): Conv2d(64, 64, kernel_size=(3, 3), stride=(1, 1), padding=(1, 1), bias=False)\n",
            "      (bn1): BatchNorm2d(64, eps=1e-05, momentum=0.1, affine=True, track_running_stats=True)\n",
            "      (relu): ReLU(inplace=True)\n",
            "      (conv2): Conv2d(64, 64, kernel_size=(3, 3), stride=(1, 1), padding=(1, 1), bias=False)\n",
            "      (bn2): BatchNorm2d(64, eps=1e-05, momentum=0.1, affine=True, track_running_stats=True)\n",
            "    )\n",
            "  )\n",
            "  (layer2): Sequential(\n",
            "    (0): BasicBlock(\n",
            "      (conv1): Conv2d(64, 128, kernel_size=(3, 3), stride=(2, 2), padding=(1, 1), bias=False)\n",
            "      (bn1): BatchNorm2d(128, eps=1e-05, momentum=0.1, affine=True, track_running_stats=True)\n",
            "      (relu): ReLU(inplace=True)\n",
            "      (conv2): Conv2d(128, 128, kernel_size=(3, 3), stride=(1, 1), padding=(1, 1), bias=False)\n",
            "      (bn2): BatchNorm2d(128, eps=1e-05, momentum=0.1, affine=True, track_running_stats=True)\n",
            "      (downsample): Sequential(\n",
            "        (0): Conv2d(64, 128, kernel_size=(1, 1), stride=(2, 2), bias=False)\n",
            "        (1): BatchNorm2d(128, eps=1e-05, momentum=0.1, affine=True, track_running_stats=True)\n",
            "      )\n",
            "    )\n",
            "    (1): BasicBlock(\n",
            "      (conv1): Conv2d(128, 128, kernel_size=(3, 3), stride=(1, 1), padding=(1, 1), bias=False)\n",
            "      (bn1): BatchNorm2d(128, eps=1e-05, momentum=0.1, affine=True, track_running_stats=True)\n",
            "      (relu): ReLU(inplace=True)\n",
            "      (conv2): Conv2d(128, 128, kernel_size=(3, 3), stride=(1, 1), padding=(1, 1), bias=False)\n",
            "      (bn2): BatchNorm2d(128, eps=1e-05, momentum=0.1, affine=True, track_running_stats=True)\n",
            "    )\n",
            "  )\n",
            "  (layer3): Sequential(\n",
            "    (0): BasicBlock(\n",
            "      (conv1): Conv2d(128, 256, kernel_size=(3, 3), stride=(2, 2), padding=(1, 1), bias=False)\n",
            "      (bn1): BatchNorm2d(256, eps=1e-05, momentum=0.1, affine=True, track_running_stats=True)\n",
            "      (relu): ReLU(inplace=True)\n",
            "      (conv2): Conv2d(256, 256, kernel_size=(3, 3), stride=(1, 1), padding=(1, 1), bias=False)\n",
            "      (bn2): BatchNorm2d(256, eps=1e-05, momentum=0.1, affine=True, track_running_stats=True)\n",
            "      (downsample): Sequential(\n",
            "        (0): Conv2d(128, 256, kernel_size=(1, 1), stride=(2, 2), bias=False)\n",
            "        (1): BatchNorm2d(256, eps=1e-05, momentum=0.1, affine=True, track_running_stats=True)\n",
            "      )\n",
            "    )\n",
            "    (1): BasicBlock(\n",
            "      (conv1): Conv2d(256, 256, kernel_size=(3, 3), stride=(1, 1), padding=(1, 1), bias=False)\n",
            "      (bn1): BatchNorm2d(256, eps=1e-05, momentum=0.1, affine=True, track_running_stats=True)\n",
            "      (relu): ReLU(inplace=True)\n",
            "      (conv2): Conv2d(256, 256, kernel_size=(3, 3), stride=(1, 1), padding=(1, 1), bias=False)\n",
            "      (bn2): BatchNorm2d(256, eps=1e-05, momentum=0.1, affine=True, track_running_stats=True)\n",
            "    )\n",
            "  )\n",
            "  (layer4): Sequential(\n",
            "    (0): BasicBlock(\n",
            "      (conv1): Conv2d(256, 512, kernel_size=(3, 3), stride=(2, 2), padding=(1, 1), bias=False)\n",
            "      (bn1): BatchNorm2d(512, eps=1e-05, momentum=0.1, affine=True, track_running_stats=True)\n",
            "      (relu): ReLU(inplace=True)\n",
            "      (conv2): Conv2d(512, 512, kernel_size=(3, 3), stride=(1, 1), padding=(1, 1), bias=False)\n",
            "      (bn2): BatchNorm2d(512, eps=1e-05, momentum=0.1, affine=True, track_running_stats=True)\n",
            "      (downsample): Sequential(\n",
            "        (0): Conv2d(256, 512, kernel_size=(1, 1), stride=(2, 2), bias=False)\n",
            "        (1): BatchNorm2d(512, eps=1e-05, momentum=0.1, affine=True, track_running_stats=True)\n",
            "      )\n",
            "    )\n",
            "    (1): BasicBlock(\n",
            "      (conv1): Conv2d(512, 512, kernel_size=(3, 3), stride=(1, 1), padding=(1, 1), bias=False)\n",
            "      (bn1): BatchNorm2d(512, eps=1e-05, momentum=0.1, affine=True, track_running_stats=True)\n",
            "      (relu): ReLU(inplace=True)\n",
            "      (conv2): Conv2d(512, 512, kernel_size=(3, 3), stride=(1, 1), padding=(1, 1), bias=False)\n",
            "      (bn2): BatchNorm2d(512, eps=1e-05, momentum=0.1, affine=True, track_running_stats=True)\n",
            "    )\n",
            "  )\n",
            "  (avgpool): AdaptiveAvgPool2d(output_size=(1, 1))\n",
            "  (fc): FFClassifier(\n",
            "    (fc1): Linear(in_features=512, out_features=525, bias=True)\n",
            "    (drop): Dropout(p=0.2, inplace=False)\n",
            "  )\n",
            ")\n",
            "Using cuda device\n"
          ]
        }
      ]
    },
    {
      "cell_type": "code",
      "source": [
        "model(next(iter(train_loader))[0].to(device)).to(device).shape"
      ],
      "metadata": {
        "colab": {
          "base_uri": "https://localhost:8080/"
        },
        "id": "xICl5MFS0HEj",
        "outputId": "59e42308-d676-44e0-e03c-8d91b768239b"
      },
      "execution_count": null,
      "outputs": [
        {
          "output_type": "execute_result",
          "data": {
            "text/plain": [
              "torch.Size([32, 525])"
            ]
          },
          "metadata": {},
          "execution_count": 50
        }
      ]
    },
    {
      "cell_type": "code",
      "source": [
        "tot_epoch_loss = []\n",
        "model.to(device)\n",
        "for epoch in tqdm(range(num_epochs)):\n",
        "    print(f'EPOCH: {epoch}/{num_epochs}')\n",
        "    model.train()\n",
        "    batch_loss = []\n",
        "    for idx, batch in enumerate(train_loader):\n",
        "\n",
        "\n",
        "        train_x, train_y = batch\n",
        "        #print(train_y.shape)\n",
        "        optimizer.zero_grad()\n",
        "\n",
        "        output = model(train_x.to(device))#.unsqueeze(1)\n",
        "        #print(output.shape)\n",
        "        loss = l(output, train_y.to(device))\n",
        "\n",
        "        loss.backward()\n",
        "        batch_loss.append(loss.item())\n",
        "\n",
        "        if idx%100 == 0:\n",
        "            print(f'BATCH {idx+1} Running Loss: {loss.item()}')\n",
        "\n",
        "        # Adjust learning weights\n",
        "        optimizer.step()\n",
        "\n",
        "    tot_epoch_loss.append(sum(batch_loss)/len(batch_loss))\n",
        "    print(f'Epoch Loss: {sum(batch_loss)/len(batch_loss)}')"
      ],
      "metadata": {
        "colab": {
          "base_uri": "https://localhost:8080/"
        },
        "id": "TUtm_EPlviJS",
        "outputId": "6e721898-1620-4054-ab61-33b10e922409"
      },
      "execution_count": null,
      "outputs": [
        {
          "metadata": {
            "tags": null
          },
          "name": "stderr",
          "output_type": "stream",
          "text": [
            "\r  0%|          | 0/100 [00:00<?, ?it/s]"
          ]
        },
        {
          "metadata": {
            "tags": null
          },
          "name": "stdout",
          "output_type": "stream",
          "text": [
            "EPOCH: 0/100\n",
            "BATCH 1 Running Loss: 6.573877334594727\n",
            "BATCH 101 Running Loss: 5.596915245056152\n",
            "BATCH 201 Running Loss: 4.44131326675415\n"
          ]
        },
        {
          "metadata": {
            "tags": null
          },
          "name": "stderr",
          "output_type": "stream",
          "text": [
            "\r  1%|          | 1/100 [00:18<30:10, 18.29s/it]"
          ]
        },
        {
          "metadata": {
            "tags": null
          },
          "name": "stdout",
          "output_type": "stream",
          "text": [
            "Epoch Loss: 5.3855435533343625\n",
            "EPOCH: 1/100\n",
            "BATCH 1 Running Loss: 3.694993019104004\n",
            "BATCH 101 Running Loss: 3.295201063156128\n",
            "BATCH 201 Running Loss: 2.768019676208496\n"
          ]
        },
        {
          "metadata": {
            "tags": null
          },
          "name": "stderr",
          "output_type": "stream",
          "text": [
            "\r  2%|▏         | 2/100 [00:36<29:55, 18.33s/it]"
          ]
        },
        {
          "metadata": {
            "tags": null
          },
          "name": "stdout",
          "output_type": "stream",
          "text": [
            "Epoch Loss: 2.851603155316047\n",
            "EPOCH: 2/100\n",
            "BATCH 1 Running Loss: 2.03041410446167\n",
            "BATCH 101 Running Loss: 1.6152136325836182\n",
            "BATCH 201 Running Loss: 1.6955429315567017\n"
          ]
        },
        {
          "metadata": {
            "tags": null
          },
          "name": "stderr",
          "output_type": "stream",
          "text": [
            "\r  3%|▎         | 3/100 [00:55<29:44, 18.40s/it]"
          ]
        },
        {
          "metadata": {
            "tags": null
          },
          "name": "stdout",
          "output_type": "stream",
          "text": [
            "Epoch Loss: 1.8097277996675023\n",
            "EPOCH: 3/100\n",
            "BATCH 1 Running Loss: 1.1169521808624268\n",
            "BATCH 101 Running Loss: 1.0910029411315918\n",
            "BATCH 201 Running Loss: 1.4317258596420288\n"
          ]
        },
        {
          "metadata": {
            "tags": null
          },
          "name": "stderr",
          "output_type": "stream",
          "text": [
            "\r  4%|▍         | 4/100 [01:13<29:21, 18.35s/it]"
          ]
        },
        {
          "metadata": {
            "tags": null
          },
          "name": "stdout",
          "output_type": "stream",
          "text": [
            "Epoch Loss: 1.2700011885391091\n",
            "EPOCH: 4/100\n",
            "BATCH 1 Running Loss: 0.9225594401359558\n",
            "BATCH 101 Running Loss: 0.7102493047714233\n",
            "BATCH 201 Running Loss: 0.9411689043045044\n"
          ]
        },
        {
          "metadata": {
            "tags": null
          },
          "name": "stderr",
          "output_type": "stream",
          "text": [
            "\r  5%|▌         | 5/100 [01:31<28:49, 18.21s/it]"
          ]
        },
        {
          "metadata": {
            "tags": null
          },
          "name": "stdout",
          "output_type": "stream",
          "text": [
            "Epoch Loss: 0.9831813625569613\n",
            "EPOCH: 5/100\n",
            "BATCH 1 Running Loss: 0.5300043225288391\n",
            "BATCH 101 Running Loss: 0.6226438283920288\n",
            "BATCH 201 Running Loss: 0.7498241066932678\n"
          ]
        },
        {
          "metadata": {
            "tags": null
          },
          "name": "stderr",
          "output_type": "stream",
          "text": [
            "\r  6%|▌         | 6/100 [01:49<28:15, 18.04s/it]"
          ]
        },
        {
          "metadata": {
            "tags": null
          },
          "name": "stdout",
          "output_type": "stream",
          "text": [
            "Epoch Loss: 0.7938033439078421\n",
            "EPOCH: 6/100\n",
            "BATCH 1 Running Loss: 0.637162446975708\n",
            "BATCH 101 Running Loss: 0.6312048435211182\n",
            "BATCH 201 Running Loss: 0.7833428382873535\n"
          ]
        },
        {
          "metadata": {
            "tags": null
          },
          "name": "stderr",
          "output_type": "stream",
          "text": [
            "\r  7%|▋         | 7/100 [02:07<28:07, 18.14s/it]"
          ]
        },
        {
          "metadata": {
            "tags": null
          },
          "name": "stdout",
          "output_type": "stream",
          "text": [
            "Epoch Loss: 0.6567175154416066\n",
            "EPOCH: 7/100\n",
            "BATCH 1 Running Loss: 0.44707921147346497\n",
            "BATCH 101 Running Loss: 0.6397182941436768\n",
            "BATCH 201 Running Loss: 0.7028781175613403\n"
          ]
        },
        {
          "metadata": {
            "tags": null
          },
          "name": "stderr",
          "output_type": "stream",
          "text": [
            "\r  8%|▊         | 8/100 [02:25<27:41, 18.06s/it]"
          ]
        },
        {
          "metadata": {
            "tags": null
          },
          "name": "stdout",
          "output_type": "stream",
          "text": [
            "Epoch Loss: 0.5522981898964576\n",
            "EPOCH: 8/100\n",
            "BATCH 1 Running Loss: 0.4312143921852112\n",
            "BATCH 101 Running Loss: 0.44053417444229126\n",
            "BATCH 201 Running Loss: 0.4198490381240845\n"
          ]
        },
        {
          "metadata": {
            "tags": null
          },
          "name": "stderr",
          "output_type": "stream",
          "text": [
            "\r  9%|▉         | 9/100 [02:43<27:14, 17.96s/it]"
          ]
        },
        {
          "metadata": {
            "tags": null
          },
          "name": "stdout",
          "output_type": "stream",
          "text": [
            "Epoch Loss: 0.48891922246735053\n",
            "EPOCH: 9/100\n",
            "BATCH 1 Running Loss: 0.5222947001457214\n",
            "BATCH 101 Running Loss: 0.2753552496433258\n",
            "BATCH 201 Running Loss: 0.46321141719818115\n"
          ]
        },
        {
          "metadata": {
            "tags": null
          },
          "name": "stderr",
          "output_type": "stream",
          "text": [
            "\r 10%|█         | 10/100 [03:01<27:07, 18.08s/it]"
          ]
        },
        {
          "metadata": {
            "tags": null
          },
          "name": "stdout",
          "output_type": "stream",
          "text": [
            "Epoch Loss: 0.4256274217142249\n",
            "EPOCH: 10/100\n",
            "BATCH 1 Running Loss: 0.4318919777870178\n",
            "BATCH 101 Running Loss: 0.45465290546417236\n",
            "BATCH 201 Running Loss: 0.37505632638931274\n"
          ]
        },
        {
          "metadata": {
            "tags": null
          },
          "name": "stderr",
          "output_type": "stream",
          "text": [
            "\r 11%|█         | 11/100 [03:19<26:45, 18.04s/it]"
          ]
        },
        {
          "metadata": {
            "tags": null
          },
          "name": "stdout",
          "output_type": "stream",
          "text": [
            "Epoch Loss: 0.3884307988409726\n",
            "EPOCH: 11/100\n",
            "BATCH 1 Running Loss: 0.46778053045272827\n",
            "BATCH 101 Running Loss: 0.5139477252960205\n",
            "BATCH 201 Running Loss: 0.3330649733543396\n"
          ]
        },
        {
          "metadata": {
            "tags": null
          },
          "name": "stderr",
          "output_type": "stream",
          "text": [
            "\r 12%|█▏        | 12/100 [03:37<26:38, 18.17s/it]"
          ]
        },
        {
          "metadata": {
            "tags": null
          },
          "name": "stdout",
          "output_type": "stream",
          "text": [
            "Epoch Loss: 0.34530827352460824\n",
            "EPOCH: 12/100\n",
            "BATCH 1 Running Loss: 0.23322872817516327\n",
            "BATCH 101 Running Loss: 0.2831803262233734\n",
            "BATCH 201 Running Loss: 0.2103060930967331\n"
          ]
        },
        {
          "metadata": {
            "tags": null
          },
          "name": "stderr",
          "output_type": "stream",
          "text": [
            "\r 13%|█▎        | 13/100 [03:56<26:28, 18.25s/it]"
          ]
        },
        {
          "metadata": {
            "tags": null
          },
          "name": "stdout",
          "output_type": "stream",
          "text": [
            "Epoch Loss: 0.321470227162793\n",
            "EPOCH: 13/100\n",
            "BATCH 1 Running Loss: 0.18547004461288452\n",
            "BATCH 101 Running Loss: 0.2556859850883484\n",
            "BATCH 201 Running Loss: 0.23482736945152283\n"
          ]
        },
        {
          "metadata": {
            "tags": null
          },
          "name": "stderr",
          "output_type": "stream",
          "text": [
            "\r 14%|█▍        | 14/100 [04:13<25:55, 18.09s/it]"
          ]
        },
        {
          "metadata": {
            "tags": null
          },
          "name": "stdout",
          "output_type": "stream",
          "text": [
            "Epoch Loss: 0.28934293122224086\n",
            "EPOCH: 14/100\n",
            "BATCH 1 Running Loss: 0.13693001866340637\n",
            "BATCH 101 Running Loss: 0.32660573720932007\n",
            "BATCH 201 Running Loss: 0.16660965979099274\n"
          ]
        },
        {
          "metadata": {
            "tags": null
          },
          "name": "stderr",
          "output_type": "stream",
          "text": [
            "\r 15%|█▌        | 15/100 [04:31<25:33, 18.04s/it]"
          ]
        },
        {
          "metadata": {
            "tags": null
          },
          "name": "stdout",
          "output_type": "stream",
          "text": [
            "Epoch Loss: 0.2708525056265435\n",
            "EPOCH: 15/100\n",
            "BATCH 1 Running Loss: 0.3401191234588623\n",
            "BATCH 101 Running Loss: 0.23848064243793488\n",
            "BATCH 201 Running Loss: 0.20079228281974792\n"
          ]
        },
        {
          "metadata": {
            "tags": null
          },
          "name": "stderr",
          "output_type": "stream",
          "text": [
            "\r 16%|█▌        | 16/100 [04:50<25:23, 18.14s/it]"
          ]
        },
        {
          "metadata": {
            "tags": null
          },
          "name": "stdout",
          "output_type": "stream",
          "text": [
            "Epoch Loss: 0.26490060484634254\n",
            "EPOCH: 16/100\n",
            "BATCH 1 Running Loss: 0.37038516998291016\n",
            "BATCH 101 Running Loss: 0.3289051651954651\n",
            "BATCH 201 Running Loss: 0.24036511778831482\n"
          ]
        },
        {
          "metadata": {
            "tags": null
          },
          "name": "stderr",
          "output_type": "stream",
          "text": [
            "\r 17%|█▋        | 17/100 [05:08<24:55, 18.02s/it]"
          ]
        },
        {
          "metadata": {
            "tags": null
          },
          "name": "stdout",
          "output_type": "stream",
          "text": [
            "Epoch Loss: 0.23558819406437423\n",
            "EPOCH: 17/100\n",
            "BATCH 1 Running Loss: 0.10766192525625229\n",
            "BATCH 101 Running Loss: 0.14914697408676147\n",
            "BATCH 201 Running Loss: 0.18740017712116241\n"
          ]
        },
        {
          "metadata": {
            "tags": null
          },
          "name": "stderr",
          "output_type": "stream",
          "text": [
            "\r 18%|█▊        | 18/100 [05:25<24:30, 17.93s/it]"
          ]
        },
        {
          "metadata": {
            "tags": null
          },
          "name": "stdout",
          "output_type": "stream",
          "text": [
            "Epoch Loss: 0.2341187999777074\n",
            "EPOCH: 18/100\n",
            "BATCH 1 Running Loss: 0.23797202110290527\n",
            "BATCH 101 Running Loss: 0.39511343836784363\n",
            "BATCH 201 Running Loss: 0.2950499951839447\n"
          ]
        },
        {
          "metadata": {
            "tags": null
          },
          "name": "stderr",
          "output_type": "stream",
          "text": [
            "\r 19%|█▉        | 19/100 [05:44<24:22, 18.06s/it]"
          ]
        },
        {
          "metadata": {
            "tags": null
          },
          "name": "stdout",
          "output_type": "stream",
          "text": [
            "Epoch Loss: 0.22051402355702418\n",
            "EPOCH: 19/100\n",
            "BATCH 1 Running Loss: 0.1444343775510788\n",
            "BATCH 101 Running Loss: 0.18133485317230225\n",
            "BATCH 201 Running Loss: 0.31402862071990967\n"
          ]
        },
        {
          "metadata": {
            "tags": null
          },
          "name": "stderr",
          "output_type": "stream",
          "text": [
            "\r 20%|██        | 20/100 [06:01<23:57, 17.97s/it]"
          ]
        },
        {
          "metadata": {
            "tags": null
          },
          "name": "stdout",
          "output_type": "stream",
          "text": [
            "Epoch Loss: 0.21070257068242668\n",
            "EPOCH: 20/100\n",
            "BATCH 1 Running Loss: 0.11472375690937042\n",
            "BATCH 101 Running Loss: 0.179973766207695\n",
            "BATCH 201 Running Loss: 0.11274275928735733\n"
          ]
        },
        {
          "metadata": {
            "tags": null
          },
          "name": "stderr",
          "output_type": "stream",
          "text": [
            "\r 21%|██        | 21/100 [06:20<23:45, 18.04s/it]"
          ]
        },
        {
          "metadata": {
            "tags": null
          },
          "name": "stdout",
          "output_type": "stream",
          "text": [
            "Epoch Loss: 0.19756759334847612\n",
            "EPOCH: 21/100\n",
            "BATCH 1 Running Loss: 0.20574849843978882\n",
            "BATCH 101 Running Loss: 0.17554914951324463\n",
            "BATCH 201 Running Loss: 0.20172880589962006\n"
          ]
        },
        {
          "metadata": {
            "tags": null
          },
          "name": "stderr",
          "output_type": "stream",
          "text": [
            "\r 22%|██▏       | 22/100 [06:38<23:37, 18.18s/it]"
          ]
        },
        {
          "metadata": {
            "tags": null
          },
          "name": "stdout",
          "output_type": "stream",
          "text": [
            "Epoch Loss: 0.1918476123011337\n",
            "EPOCH: 22/100\n",
            "BATCH 1 Running Loss: 0.30362817645072937\n",
            "BATCH 101 Running Loss: 0.14635194838047028\n",
            "BATCH 201 Running Loss: 0.16204607486724854\n"
          ]
        },
        {
          "metadata": {
            "tags": null
          },
          "name": "stderr",
          "output_type": "stream",
          "text": [
            "\r 23%|██▎       | 23/100 [06:56<23:10, 18.05s/it]"
          ]
        },
        {
          "metadata": {
            "tags": null
          },
          "name": "stdout",
          "output_type": "stream",
          "text": [
            "Epoch Loss: 0.18843256663882507\n",
            "EPOCH: 23/100\n",
            "BATCH 1 Running Loss: 0.2834034562110901\n",
            "BATCH 101 Running Loss: 0.1727767288684845\n",
            "BATCH 201 Running Loss: 0.21149832010269165\n"
          ]
        },
        {
          "metadata": {
            "tags": null
          },
          "name": "stderr",
          "output_type": "stream",
          "text": [
            "\r 24%|██▍       | 24/100 [07:14<22:44, 17.95s/it]"
          ]
        },
        {
          "metadata": {
            "tags": null
          },
          "name": "stdout",
          "output_type": "stream",
          "text": [
            "Epoch Loss: 0.18803032240215337\n",
            "EPOCH: 24/100\n",
            "BATCH 1 Running Loss: 0.08696345239877701\n",
            "BATCH 101 Running Loss: 0.11368207633495331\n",
            "BATCH 201 Running Loss: 0.34598207473754883\n"
          ]
        },
        {
          "metadata": {
            "tags": null
          },
          "name": "stderr",
          "output_type": "stream",
          "text": [
            "\r 25%|██▌       | 25/100 [07:32<22:37, 18.10s/it]"
          ]
        },
        {
          "metadata": {
            "tags": null
          },
          "name": "stdout",
          "output_type": "stream",
          "text": [
            "Epoch Loss: 0.1828451781199788\n",
            "EPOCH: 25/100\n",
            "BATCH 1 Running Loss: 0.17078429460525513\n",
            "BATCH 101 Running Loss: 0.09406819194555283\n",
            "BATCH 201 Running Loss: 0.08475253731012344\n"
          ]
        },
        {
          "metadata": {
            "tags": null
          },
          "name": "stderr",
          "output_type": "stream",
          "text": [
            "\r 26%|██▌       | 26/100 [07:50<22:14, 18.04s/it]"
          ]
        },
        {
          "metadata": {
            "tags": null
          },
          "name": "stdout",
          "output_type": "stream",
          "text": [
            "Epoch Loss: 0.17566495159605763\n",
            "EPOCH: 26/100\n",
            "BATCH 1 Running Loss: 0.22417812049388885\n",
            "BATCH 101 Running Loss: 0.13188788294792175\n",
            "BATCH 201 Running Loss: 0.11084386706352234\n"
          ]
        },
        {
          "metadata": {
            "tags": null
          },
          "name": "stderr",
          "output_type": "stream",
          "text": [
            "\r 27%|██▋       | 27/100 [08:08<21:52, 17.98s/it]"
          ]
        },
        {
          "metadata": {
            "tags": null
          },
          "name": "stdout",
          "output_type": "stream",
          "text": [
            "Epoch Loss: 0.16916606437485174\n",
            "EPOCH: 27/100\n",
            "BATCH 1 Running Loss: 0.2634347081184387\n",
            "BATCH 101 Running Loss: 0.16954341530799866\n",
            "BATCH 201 Running Loss: 0.15919654071331024\n"
          ]
        },
        {
          "metadata": {
            "tags": null
          },
          "name": "stderr",
          "output_type": "stream",
          "text": [
            "\r 28%|██▊       | 28/100 [08:26<21:45, 18.13s/it]"
          ]
        },
        {
          "metadata": {
            "tags": null
          },
          "name": "stdout",
          "output_type": "stream",
          "text": [
            "Epoch Loss: 0.16602593463546825\n",
            "EPOCH: 28/100\n",
            "BATCH 1 Running Loss: 0.15606781840324402\n",
            "BATCH 101 Running Loss: 0.16689588129520416\n",
            "BATCH 201 Running Loss: 0.13035297393798828\n"
          ]
        },
        {
          "metadata": {
            "tags": null
          },
          "name": "stderr",
          "output_type": "stream",
          "text": [
            "\r 29%|██▉       | 29/100 [08:44<21:20, 18.04s/it]"
          ]
        },
        {
          "metadata": {
            "tags": null
          },
          "name": "stdout",
          "output_type": "stream",
          "text": [
            "Epoch Loss: 0.1546522077805591\n",
            "EPOCH: 29/100\n",
            "BATCH 1 Running Loss: 0.08617083728313446\n",
            "BATCH 101 Running Loss: 0.16874559223651886\n",
            "BATCH 201 Running Loss: 0.15526123344898224\n"
          ]
        },
        {
          "metadata": {
            "tags": null
          },
          "name": "stderr",
          "output_type": "stream",
          "text": [
            "\r 30%|███       | 30/100 [09:02<21:10, 18.15s/it]"
          ]
        },
        {
          "metadata": {
            "tags": null
          },
          "name": "stdout",
          "output_type": "stream",
          "text": [
            "Epoch Loss: 0.1616787887406799\n",
            "EPOCH: 30/100\n",
            "BATCH 1 Running Loss: 0.16817502677440643\n",
            "BATCH 101 Running Loss: 0.21331217885017395\n",
            "BATCH 201 Running Loss: 0.12362886220216751\n"
          ]
        },
        {
          "metadata": {
            "tags": null
          },
          "name": "stderr",
          "output_type": "stream",
          "text": [
            "\r 31%|███       | 31/100 [09:21<20:57, 18.23s/it]"
          ]
        },
        {
          "metadata": {
            "tags": null
          },
          "name": "stdout",
          "output_type": "stream",
          "text": [
            "Epoch Loss: 0.15431196782386528\n",
            "EPOCH: 31/100\n",
            "BATCH 1 Running Loss: 0.06765004247426987\n",
            "BATCH 101 Running Loss: 0.1512318104505539\n",
            "BATCH 201 Running Loss: 0.2217901200056076\n"
          ]
        },
        {
          "metadata": {
            "tags": null
          },
          "name": "stderr",
          "output_type": "stream",
          "text": [
            "\r 32%|███▏      | 32/100 [09:39<20:30, 18.10s/it]"
          ]
        },
        {
          "metadata": {
            "tags": null
          },
          "name": "stdout",
          "output_type": "stream",
          "text": [
            "Epoch Loss: 0.15409168388764813\n",
            "EPOCH: 32/100\n",
            "BATCH 1 Running Loss: 0.08890987187623978\n",
            "BATCH 101 Running Loss: 0.07033208757638931\n",
            "BATCH 201 Running Loss: 0.15682768821716309\n"
          ]
        },
        {
          "metadata": {
            "tags": null
          },
          "name": "stderr",
          "output_type": "stream",
          "text": [
            "\r 33%|███▎      | 33/100 [09:56<20:07, 18.02s/it]"
          ]
        },
        {
          "metadata": {
            "tags": null
          },
          "name": "stdout",
          "output_type": "stream",
          "text": [
            "Epoch Loss: 0.1506851649509286\n",
            "EPOCH: 33/100\n",
            "BATCH 1 Running Loss: 0.11879601329565048\n",
            "BATCH 101 Running Loss: 0.12536576390266418\n",
            "BATCH 201 Running Loss: 0.1372322142124176\n"
          ]
        },
        {
          "metadata": {
            "tags": null
          },
          "name": "stderr",
          "output_type": "stream",
          "text": [
            "\r 34%|███▍      | 34/100 [10:15<19:54, 18.10s/it]"
          ]
        },
        {
          "metadata": {
            "tags": null
          },
          "name": "stdout",
          "output_type": "stream",
          "text": [
            "Epoch Loss: 0.1396985189391757\n",
            "EPOCH: 34/100\n",
            "BATCH 1 Running Loss: 0.10434325039386749\n",
            "BATCH 101 Running Loss: 0.05629456043243408\n",
            "BATCH 201 Running Loss: 0.08365299552679062\n"
          ]
        },
        {
          "metadata": {
            "tags": null
          },
          "name": "stderr",
          "output_type": "stream",
          "text": [
            "\r 35%|███▌      | 35/100 [10:32<19:29, 17.99s/it]"
          ]
        },
        {
          "metadata": {
            "tags": null
          },
          "name": "stdout",
          "output_type": "stream",
          "text": [
            "Epoch Loss: 0.14901004806160928\n",
            "EPOCH: 35/100\n",
            "BATCH 1 Running Loss: 0.09664922952651978\n",
            "BATCH 101 Running Loss: 0.07193194329738617\n",
            "BATCH 201 Running Loss: 0.2366059571504593\n"
          ]
        },
        {
          "metadata": {
            "tags": null
          },
          "name": "stderr",
          "output_type": "stream",
          "text": [
            "\r 36%|███▌      | 36/100 [10:50<19:06, 17.92s/it]"
          ]
        },
        {
          "metadata": {
            "tags": null
          },
          "name": "stdout",
          "output_type": "stream",
          "text": [
            "Epoch Loss: 0.1398207499171203\n",
            "EPOCH: 36/100\n",
            "BATCH 1 Running Loss: 0.199783593416214\n",
            "BATCH 101 Running Loss: 0.09376376867294312\n",
            "BATCH 201 Running Loss: 0.29686611890792847\n"
          ]
        },
        {
          "metadata": {
            "tags": null
          },
          "name": "stderr",
          "output_type": "stream",
          "text": [
            "\r 37%|███▋      | 37/100 [11:09<18:58, 18.07s/it]"
          ]
        },
        {
          "metadata": {
            "tags": null
          },
          "name": "stdout",
          "output_type": "stream",
          "text": [
            "Epoch Loss: 0.1366313360069158\n",
            "EPOCH: 37/100\n",
            "BATCH 1 Running Loss: 0.15698176622390747\n",
            "BATCH 101 Running Loss: 0.25143805146217346\n",
            "BATCH 201 Running Loss: 0.22051334381103516\n"
          ]
        },
        {
          "metadata": {
            "tags": null
          },
          "name": "stderr",
          "output_type": "stream",
          "text": [
            "\r 38%|███▊      | 38/100 [11:26<18:35, 18.00s/it]"
          ]
        },
        {
          "metadata": {
            "tags": null
          },
          "name": "stdout",
          "output_type": "stream",
          "text": [
            "Epoch Loss: 0.1471809614098297\n",
            "EPOCH: 38/100\n",
            "BATCH 1 Running Loss: 0.20460525155067444\n",
            "BATCH 101 Running Loss: 0.07346028834581375\n",
            "BATCH 201 Running Loss: 0.12769515812397003\n"
          ]
        },
        {
          "metadata": {
            "tags": null
          },
          "name": "stderr",
          "output_type": "stream",
          "text": [
            "\r 39%|███▉      | 39/100 [11:45<18:28, 18.18s/it]"
          ]
        },
        {
          "metadata": {
            "tags": null
          },
          "name": "stdout",
          "output_type": "stream",
          "text": [
            "Epoch Loss: 0.14144586445587987\n",
            "EPOCH: 39/100\n",
            "BATCH 1 Running Loss: 0.11214590072631836\n",
            "BATCH 101 Running Loss: 0.07099175453186035\n",
            "BATCH 201 Running Loss: 0.1282220482826233\n"
          ]
        },
        {
          "metadata": {
            "tags": null
          },
          "name": "stderr",
          "output_type": "stream",
          "text": [
            "\r 40%|████      | 40/100 [12:03<18:11, 18.20s/it]"
          ]
        },
        {
          "metadata": {
            "tags": null
          },
          "name": "stdout",
          "output_type": "stream",
          "text": [
            "Epoch Loss: 0.13853846376515785\n",
            "EPOCH: 40/100\n",
            "BATCH 1 Running Loss: 0.4445490837097168\n",
            "BATCH 101 Running Loss: 0.0895259827375412\n",
            "BATCH 201 Running Loss: 0.11404751241207123\n"
          ]
        },
        {
          "metadata": {
            "tags": null
          },
          "name": "stderr",
          "output_type": "stream",
          "text": [
            "\r 41%|████      | 41/100 [12:21<17:44, 18.05s/it]"
          ]
        },
        {
          "metadata": {
            "tags": null
          },
          "name": "stdout",
          "output_type": "stream",
          "text": [
            "Epoch Loss: 0.13425323219512994\n",
            "EPOCH: 41/100\n",
            "BATCH 1 Running Loss: 0.15681710839271545\n",
            "BATCH 101 Running Loss: 0.20541715621948242\n",
            "BATCH 201 Running Loss: 0.15246257185935974\n"
          ]
        },
        {
          "metadata": {
            "tags": null
          },
          "name": "stderr",
          "output_type": "stream",
          "text": [
            "\r 42%|████▏     | 42/100 [12:39<17:25, 18.03s/it]"
          ]
        },
        {
          "metadata": {
            "tags": null
          },
          "name": "stdout",
          "output_type": "stream",
          "text": [
            "Epoch Loss: 0.13452200136094722\n",
            "EPOCH: 42/100\n",
            "BATCH 1 Running Loss: 0.09449972212314606\n",
            "BATCH 101 Running Loss: 0.1138283908367157\n",
            "BATCH 201 Running Loss: 0.13043586909770966\n"
          ]
        },
        {
          "metadata": {
            "tags": null
          },
          "name": "stderr",
          "output_type": "stream",
          "text": [
            "\r 43%|████▎     | 43/100 [12:57<17:12, 18.11s/it]"
          ]
        },
        {
          "metadata": {
            "tags": null
          },
          "name": "stdout",
          "output_type": "stream",
          "text": [
            "Epoch Loss: 0.13212719151996216\n",
            "EPOCH: 43/100\n",
            "BATCH 1 Running Loss: 0.0703723207116127\n",
            "BATCH 101 Running Loss: 0.09879153221845627\n",
            "BATCH 201 Running Loss: 0.16120290756225586\n"
          ]
        },
        {
          "metadata": {
            "tags": null
          },
          "name": "stderr",
          "output_type": "stream",
          "text": [
            "\r 44%|████▍     | 44/100 [13:15<16:49, 18.03s/it]"
          ]
        },
        {
          "metadata": {
            "tags": null
          },
          "name": "stdout",
          "output_type": "stream",
          "text": [
            "Epoch Loss: 0.13328527943143303\n",
            "EPOCH: 44/100\n",
            "BATCH 1 Running Loss: 0.11989834904670715\n",
            "BATCH 101 Running Loss: 0.06540647149085999\n",
            "BATCH 201 Running Loss: 0.2211245596408844\n"
          ]
        },
        {
          "metadata": {
            "tags": null
          },
          "name": "stderr",
          "output_type": "stream",
          "text": [
            "\r 45%|████▌     | 45/100 [13:33<16:33, 18.07s/it]"
          ]
        },
        {
          "metadata": {
            "tags": null
          },
          "name": "stdout",
          "output_type": "stream",
          "text": [
            "Epoch Loss: 0.1309942602830113\n",
            "EPOCH: 45/100\n",
            "BATCH 1 Running Loss: 0.08656154572963715\n",
            "BATCH 101 Running Loss: 0.18942159414291382\n",
            "BATCH 201 Running Loss: 0.09654218703508377\n"
          ]
        },
        {
          "metadata": {
            "tags": null
          },
          "name": "stderr",
          "output_type": "stream",
          "text": [
            "\r 46%|████▌     | 46/100 [13:52<16:17, 18.11s/it]"
          ]
        },
        {
          "metadata": {
            "tags": null
          },
          "name": "stdout",
          "output_type": "stream",
          "text": [
            "Epoch Loss: 0.1362447296954551\n",
            "EPOCH: 46/100\n",
            "BATCH 1 Running Loss: 0.047454725950956345\n",
            "BATCH 101 Running Loss: 0.09622202813625336\n",
            "BATCH 201 Running Loss: 0.18063822388648987\n"
          ]
        },
        {
          "metadata": {
            "tags": null
          },
          "name": "stderr",
          "output_type": "stream",
          "text": [
            "\r 47%|████▋     | 47/100 [14:09<15:56, 18.04s/it]"
          ]
        },
        {
          "metadata": {
            "tags": null
          },
          "name": "stdout",
          "output_type": "stream",
          "text": [
            "Epoch Loss: 0.12752775333400043\n",
            "EPOCH: 47/100\n",
            "BATCH 1 Running Loss: 0.20664700865745544\n",
            "BATCH 101 Running Loss: 0.1482287049293518\n",
            "BATCH 201 Running Loss: 0.06175021082162857\n"
          ]
        },
        {
          "metadata": {
            "tags": null
          },
          "name": "stderr",
          "output_type": "stream",
          "text": [
            "\r 48%|████▊     | 48/100 [14:28<15:46, 18.21s/it]"
          ]
        },
        {
          "metadata": {
            "tags": null
          },
          "name": "stdout",
          "output_type": "stream",
          "text": [
            "Epoch Loss: 0.13227018259887424\n",
            "EPOCH: 48/100\n",
            "BATCH 1 Running Loss: 0.06904864311218262\n",
            "BATCH 101 Running Loss: 0.06749105453491211\n",
            "BATCH 201 Running Loss: 0.07569585740566254\n"
          ]
        },
        {
          "metadata": {
            "tags": null
          },
          "name": "stderr",
          "output_type": "stream",
          "text": [
            "\r 49%|████▉     | 49/100 [14:46<15:26, 18.16s/it]"
          ]
        },
        {
          "metadata": {
            "tags": null
          },
          "name": "stdout",
          "output_type": "stream",
          "text": [
            "Epoch Loss: 0.12212949663681805\n",
            "EPOCH: 49/100\n",
            "BATCH 1 Running Loss: 0.13228167593479156\n",
            "BATCH 101 Running Loss: 0.172923743724823\n",
            "BATCH 201 Running Loss: 0.23304469883441925\n"
          ]
        },
        {
          "metadata": {
            "tags": null
          },
          "name": "stderr",
          "output_type": "stream",
          "text": [
            "\r 50%|█████     | 50/100 [15:04<15:02, 18.05s/it]"
          ]
        },
        {
          "metadata": {
            "tags": null
          },
          "name": "stdout",
          "output_type": "stream",
          "text": [
            "Epoch Loss: 0.14113656487667336\n",
            "EPOCH: 50/100\n",
            "BATCH 1 Running Loss: 0.09115973114967346\n",
            "BATCH 101 Running Loss: 0.07996492832899094\n",
            "BATCH 201 Running Loss: 0.1529848426580429\n"
          ]
        },
        {
          "metadata": {
            "tags": null
          },
          "name": "stderr",
          "output_type": "stream",
          "text": [
            "\r 51%|█████     | 51/100 [15:22<14:43, 18.04s/it]"
          ]
        },
        {
          "metadata": {
            "tags": null
          },
          "name": "stdout",
          "output_type": "stream",
          "text": [
            "Epoch Loss: 0.12560083418381665\n",
            "EPOCH: 51/100\n",
            "BATCH 1 Running Loss: 0.08358494192361832\n",
            "BATCH 101 Running Loss: 0.11027421057224274\n",
            "BATCH 201 Running Loss: 0.1734096258878708\n"
          ]
        },
        {
          "metadata": {
            "tags": null
          },
          "name": "stderr",
          "output_type": "stream",
          "text": [
            "\r 52%|█████▏    | 52/100 [15:40<14:26, 18.06s/it]"
          ]
        },
        {
          "metadata": {
            "tags": null
          },
          "name": "stdout",
          "output_type": "stream",
          "text": [
            "Epoch Loss: 0.12289596090339265\n",
            "EPOCH: 52/100\n",
            "BATCH 1 Running Loss: 0.04521277919411659\n",
            "BATCH 101 Running Loss: 0.07775308191776276\n",
            "BATCH 201 Running Loss: 0.16001823544502258\n"
          ]
        },
        {
          "metadata": {
            "tags": null
          },
          "name": "stderr",
          "output_type": "stream",
          "text": [
            "\r 53%|█████▎    | 53/100 [15:58<14:04, 17.97s/it]"
          ]
        },
        {
          "metadata": {
            "tags": null
          },
          "name": "stdout",
          "output_type": "stream",
          "text": [
            "Epoch Loss: 0.12429376369658506\n",
            "EPOCH: 53/100\n",
            "BATCH 1 Running Loss: 0.11795002222061157\n",
            "BATCH 101 Running Loss: 0.1462143361568451\n",
            "BATCH 201 Running Loss: 0.17312051355838776\n"
          ]
        },
        {
          "metadata": {
            "tags": null
          },
          "name": "stderr",
          "output_type": "stream",
          "text": [
            "\r 54%|█████▍    | 54/100 [16:16<13:49, 18.04s/it]"
          ]
        },
        {
          "metadata": {
            "tags": null
          },
          "name": "stdout",
          "output_type": "stream",
          "text": [
            "Epoch Loss: 0.1263790455348087\n",
            "EPOCH: 54/100\n",
            "BATCH 1 Running Loss: 0.06831450015306473\n",
            "BATCH 101 Running Loss: 0.10204125940799713\n",
            "BATCH 201 Running Loss: 0.0984235480427742\n"
          ]
        },
        {
          "metadata": {
            "tags": null
          },
          "name": "stderr",
          "output_type": "stream",
          "text": [
            "\r 55%|█████▌    | 55/100 [16:34<13:33, 18.08s/it]"
          ]
        },
        {
          "metadata": {
            "tags": null
          },
          "name": "stdout",
          "output_type": "stream",
          "text": [
            "Epoch Loss: 0.11506791917501756\n",
            "EPOCH: 55/100\n",
            "BATCH 1 Running Loss: 0.03307345509529114\n",
            "BATCH 101 Running Loss: 0.19125500321388245\n",
            "BATCH 201 Running Loss: 0.1195601224899292\n"
          ]
        },
        {
          "metadata": {
            "tags": null
          },
          "name": "stderr",
          "output_type": "stream",
          "text": [
            "\r 56%|█████▌    | 56/100 [16:52<13:12, 18.01s/it]"
          ]
        },
        {
          "metadata": {
            "tags": null
          },
          "name": "stdout",
          "output_type": "stream",
          "text": [
            "Epoch Loss: 0.12233153702515476\n",
            "EPOCH: 56/100\n",
            "BATCH 1 Running Loss: 0.1027870774269104\n",
            "BATCH 101 Running Loss: 0.1671241968870163\n",
            "BATCH 201 Running Loss: 0.07293881475925446\n"
          ]
        },
        {
          "metadata": {
            "tags": null
          },
          "name": "stderr",
          "output_type": "stream",
          "text": [
            "\r 57%|█████▋    | 57/100 [17:11<13:04, 18.24s/it]"
          ]
        },
        {
          "metadata": {
            "tags": null
          },
          "name": "stdout",
          "output_type": "stream",
          "text": [
            "Epoch Loss: 0.13083329651996775\n",
            "EPOCH: 57/100\n",
            "BATCH 1 Running Loss: 0.1705223023891449\n",
            "BATCH 101 Running Loss: 0.07859374582767487\n",
            "BATCH 201 Running Loss: 0.09718246757984161\n"
          ]
        },
        {
          "metadata": {
            "tags": null
          },
          "name": "stderr",
          "output_type": "stream",
          "text": [
            "\r 58%|█████▊    | 58/100 [17:29<12:43, 18.19s/it]"
          ]
        },
        {
          "metadata": {
            "tags": null
          },
          "name": "stdout",
          "output_type": "stream",
          "text": [
            "Epoch Loss: 0.12065351186495907\n",
            "EPOCH: 58/100\n",
            "BATCH 1 Running Loss: 0.2381351888179779\n",
            "BATCH 101 Running Loss: 0.15701869130134583\n",
            "BATCH 201 Running Loss: 0.09975744783878326\n"
          ]
        },
        {
          "metadata": {
            "tags": null
          },
          "name": "stderr",
          "output_type": "stream",
          "text": [
            "\r 59%|█████▉    | 59/100 [17:47<12:20, 18.07s/it]"
          ]
        },
        {
          "metadata": {
            "tags": null
          },
          "name": "stdout",
          "output_type": "stream",
          "text": [
            "Epoch Loss: 0.1244563860572734\n",
            "EPOCH: 59/100\n",
            "BATCH 1 Running Loss: 0.07310312986373901\n",
            "BATCH 101 Running Loss: 0.11241385340690613\n",
            "BATCH 201 Running Loss: 0.18007022142410278\n"
          ]
        },
        {
          "metadata": {
            "tags": null
          },
          "name": "stderr",
          "output_type": "stream",
          "text": [
            "\r 60%|██████    | 60/100 [18:05<12:03, 18.08s/it]"
          ]
        },
        {
          "metadata": {
            "tags": null
          },
          "name": "stdout",
          "output_type": "stream",
          "text": [
            "Epoch Loss: 0.12704484632836197\n",
            "EPOCH: 60/100\n",
            "BATCH 1 Running Loss: 0.03702159225940704\n",
            "BATCH 101 Running Loss: 0.2760107219219208\n",
            "BATCH 201 Running Loss: 0.2475527822971344\n"
          ]
        },
        {
          "metadata": {
            "tags": null
          },
          "name": "stderr",
          "output_type": "stream",
          "text": [
            "\r 61%|██████    | 61/100 [18:23<11:45, 18.10s/it]"
          ]
        },
        {
          "metadata": {
            "tags": null
          },
          "name": "stdout",
          "output_type": "stream",
          "text": [
            "Epoch Loss: 0.12780571452008102\n",
            "EPOCH: 61/100\n",
            "BATCH 1 Running Loss: 0.271023154258728\n",
            "BATCH 101 Running Loss: 0.11266650259494781\n",
            "BATCH 201 Running Loss: 0.20851179957389832\n"
          ]
        },
        {
          "metadata": {
            "tags": null
          },
          "name": "stderr",
          "output_type": "stream",
          "text": [
            "\r 62%|██████▏   | 62/100 [18:41<11:26, 18.05s/it]"
          ]
        },
        {
          "metadata": {
            "tags": null
          },
          "name": "stdout",
          "output_type": "stream",
          "text": [
            "Epoch Loss: 0.12971969561756783\n",
            "EPOCH: 62/100\n",
            "BATCH 1 Running Loss: 0.13449381291866302\n",
            "BATCH 101 Running Loss: 0.08215345442295074\n",
            "BATCH 201 Running Loss: 0.1599365770816803\n"
          ]
        },
        {
          "metadata": {
            "tags": null
          },
          "name": "stderr",
          "output_type": "stream",
          "text": [
            "\r 63%|██████▎   | 63/100 [18:59<11:07, 18.05s/it]"
          ]
        },
        {
          "metadata": {
            "tags": null
          },
          "name": "stdout",
          "output_type": "stream",
          "text": [
            "Epoch Loss: 0.11689377213424107\n",
            "EPOCH: 63/100\n",
            "BATCH 1 Running Loss: 0.09337139129638672\n",
            "BATCH 101 Running Loss: 0.13407519459724426\n",
            "BATCH 201 Running Loss: 0.0986117273569107\n"
          ]
        },
        {
          "metadata": {
            "tags": null
          },
          "name": "stderr",
          "output_type": "stream",
          "text": [
            "\r 64%|██████▍   | 64/100 [19:17<10:49, 18.05s/it]"
          ]
        },
        {
          "metadata": {
            "tags": null
          },
          "name": "stdout",
          "output_type": "stream",
          "text": [
            "Epoch Loss: 0.12320317602101362\n",
            "EPOCH: 64/100\n",
            "BATCH 1 Running Loss: 0.09660492837429047\n",
            "BATCH 101 Running Loss: 0.13109824061393738\n",
            "BATCH 201 Running Loss: 0.11113820970058441\n"
          ]
        },
        {
          "metadata": {
            "tags": null
          },
          "name": "stderr",
          "output_type": "stream",
          "text": [
            "\r 65%|██████▌   | 65/100 [19:35<10:30, 18.00s/it]"
          ]
        },
        {
          "metadata": {
            "tags": null
          },
          "name": "stdout",
          "output_type": "stream",
          "text": [
            "Epoch Loss: 0.11802672523091425\n",
            "EPOCH: 65/100\n",
            "BATCH 1 Running Loss: 0.11422961950302124\n",
            "BATCH 101 Running Loss: 0.10994957387447357\n",
            "BATCH 201 Running Loss: 0.0913546085357666\n"
          ]
        },
        {
          "metadata": {
            "tags": null
          },
          "name": "stderr",
          "output_type": "stream",
          "text": [
            "\r 66%|██████▌   | 66/100 [19:54<10:20, 18.24s/it]"
          ]
        },
        {
          "metadata": {
            "tags": null
          },
          "name": "stdout",
          "output_type": "stream",
          "text": [
            "Epoch Loss: 0.12129680174139311\n",
            "EPOCH: 66/100\n",
            "BATCH 1 Running Loss: 0.06004457548260689\n",
            "BATCH 101 Running Loss: 0.09536601603031158\n",
            "BATCH 201 Running Loss: 0.1498875617980957\n"
          ]
        },
        {
          "metadata": {
            "tags": null
          },
          "name": "stderr",
          "output_type": "stream",
          "text": [
            "\r 67%|██████▋   | 67/100 [20:12<09:59, 18.17s/it]"
          ]
        },
        {
          "metadata": {
            "tags": null
          },
          "name": "stdout",
          "output_type": "stream",
          "text": [
            "Epoch Loss: 0.11532396223606928\n",
            "EPOCH: 67/100\n",
            "BATCH 1 Running Loss: 0.07554703205823898\n",
            "BATCH 101 Running Loss: 0.14093343913555145\n",
            "BATCH 201 Running Loss: 0.17253339290618896\n"
          ]
        },
        {
          "metadata": {
            "tags": null
          },
          "name": "stderr",
          "output_type": "stream",
          "text": [
            "\r 68%|██████▊   | 68/100 [20:29<09:38, 18.09s/it]"
          ]
        },
        {
          "metadata": {
            "tags": null
          },
          "name": "stdout",
          "output_type": "stream",
          "text": [
            "Epoch Loss: 0.12190047589675436\n",
            "EPOCH: 68/100\n",
            "BATCH 1 Running Loss: 0.08579079806804657\n",
            "BATCH 101 Running Loss: 0.1807873249053955\n",
            "BATCH 201 Running Loss: 0.061949215829372406\n"
          ]
        },
        {
          "metadata": {
            "tags": null
          },
          "name": "stderr",
          "output_type": "stream",
          "text": [
            "\r 69%|██████▉   | 69/100 [20:48<09:21, 18.10s/it]"
          ]
        },
        {
          "metadata": {
            "tags": null
          },
          "name": "stdout",
          "output_type": "stream",
          "text": [
            "Epoch Loss: 0.12650066192420023\n",
            "EPOCH: 69/100\n",
            "BATCH 1 Running Loss: 0.09312713146209717\n",
            "BATCH 101 Running Loss: 0.06295245885848999\n",
            "BATCH 201 Running Loss: 0.12332575023174286\n"
          ]
        },
        {
          "metadata": {
            "tags": null
          },
          "name": "stderr",
          "output_type": "stream",
          "text": [
            "\r 70%|███████   | 70/100 [21:06<09:01, 18.06s/it]"
          ]
        },
        {
          "metadata": {
            "tags": null
          },
          "name": "stdout",
          "output_type": "stream",
          "text": [
            "Epoch Loss: 0.12780601711205716\n",
            "EPOCH: 70/100\n",
            "BATCH 1 Running Loss: 0.08972407877445221\n",
            "BATCH 101 Running Loss: 0.18617814779281616\n",
            "BATCH 201 Running Loss: 0.14313966035842896\n"
          ]
        },
        {
          "metadata": {
            "tags": null
          },
          "name": "stderr",
          "output_type": "stream",
          "text": [
            "\r 71%|███████   | 71/100 [21:23<08:40, 17.97s/it]"
          ]
        },
        {
          "metadata": {
            "tags": null
          },
          "name": "stdout",
          "output_type": "stream",
          "text": [
            "Epoch Loss: 0.12050731021840617\n",
            "EPOCH: 71/100\n",
            "BATCH 1 Running Loss: 0.2129237800836563\n",
            "BATCH 101 Running Loss: 0.1357606053352356\n",
            "BATCH 201 Running Loss: 0.10727953910827637\n"
          ]
        },
        {
          "metadata": {
            "tags": null
          },
          "name": "stderr",
          "output_type": "stream",
          "text": [
            "\r 72%|███████▏  | 72/100 [21:41<08:23, 18.00s/it]"
          ]
        },
        {
          "metadata": {
            "tags": null
          },
          "name": "stdout",
          "output_type": "stream",
          "text": [
            "Epoch Loss: 0.1242591845679958\n",
            "EPOCH: 72/100\n",
            "BATCH 1 Running Loss: 0.08606074750423431\n",
            "BATCH 101 Running Loss: 0.08523822575807571\n",
            "BATCH 201 Running Loss: 0.11651480942964554\n"
          ]
        },
        {
          "metadata": {
            "tags": null
          },
          "name": "stderr",
          "output_type": "stream",
          "text": [
            "\r 73%|███████▎  | 73/100 [22:00<08:07, 18.06s/it]"
          ]
        },
        {
          "metadata": {
            "tags": null
          },
          "name": "stdout",
          "output_type": "stream",
          "text": [
            "Epoch Loss: 0.12310304561594747\n",
            "EPOCH: 73/100\n",
            "BATCH 1 Running Loss: 0.11200004816055298\n",
            "BATCH 101 Running Loss: 0.09891930222511292\n",
            "BATCH 201 Running Loss: 0.12959438562393188\n"
          ]
        },
        {
          "metadata": {
            "tags": null
          },
          "name": "stderr",
          "output_type": "stream",
          "text": [
            "\r 74%|███████▍  | 74/100 [22:18<07:52, 18.16s/it]"
          ]
        },
        {
          "metadata": {
            "tags": null
          },
          "name": "stdout",
          "output_type": "stream",
          "text": [
            "Epoch Loss: 0.11720373693783329\n",
            "EPOCH: 74/100\n",
            "BATCH 1 Running Loss: 0.0711674839258194\n",
            "BATCH 101 Running Loss: 0.06463554501533508\n",
            "BATCH 201 Running Loss: 0.14406098425388336\n"
          ]
        },
        {
          "metadata": {
            "tags": null
          },
          "name": "stderr",
          "output_type": "stream",
          "text": [
            "\r 75%|███████▌  | 75/100 [22:36<07:33, 18.14s/it]"
          ]
        },
        {
          "metadata": {
            "tags": null
          },
          "name": "stdout",
          "output_type": "stream",
          "text": [
            "Epoch Loss: 0.11932787109377249\n",
            "EPOCH: 75/100\n",
            "BATCH 1 Running Loss: 0.11138085275888443\n",
            "BATCH 101 Running Loss: 0.0994814783334732\n",
            "BATCH 201 Running Loss: 0.13294558227062225\n"
          ]
        },
        {
          "metadata": {
            "tags": null
          },
          "name": "stderr",
          "output_type": "stream",
          "text": [
            "\r 76%|███████▌  | 76/100 [22:54<07:14, 18.10s/it]"
          ]
        },
        {
          "metadata": {
            "tags": null
          },
          "name": "stdout",
          "output_type": "stream",
          "text": [
            "Epoch Loss: 0.11611628412919224\n",
            "EPOCH: 76/100\n",
            "BATCH 1 Running Loss: 0.19208016991615295\n",
            "BATCH 101 Running Loss: 0.18598821759223938\n",
            "BATCH 201 Running Loss: 0.055573634803295135\n"
          ]
        },
        {
          "metadata": {
            "tags": null
          },
          "name": "stderr",
          "output_type": "stream",
          "text": [
            "\r 77%|███████▋  | 77/100 [23:12<06:53, 17.98s/it]"
          ]
        },
        {
          "metadata": {
            "tags": null
          },
          "name": "stdout",
          "output_type": "stream",
          "text": [
            "Epoch Loss: 0.11817535604789572\n",
            "EPOCH: 77/100\n",
            "BATCH 1 Running Loss: 0.13556942343711853\n",
            "BATCH 101 Running Loss: 0.06691889464855194\n",
            "BATCH 201 Running Loss: 0.06638649106025696\n"
          ]
        },
        {
          "metadata": {
            "tags": null
          },
          "name": "stderr",
          "output_type": "stream",
          "text": [
            "\r 78%|███████▊  | 78/100 [23:30<06:36, 18.03s/it]"
          ]
        },
        {
          "metadata": {
            "tags": null
          },
          "name": "stdout",
          "output_type": "stream",
          "text": [
            "Epoch Loss: 0.121317051604109\n",
            "EPOCH: 78/100\n",
            "BATCH 1 Running Loss: 0.039575543254613876\n",
            "BATCH 101 Running Loss: 0.08918605744838715\n",
            "BATCH 201 Running Loss: 0.21536165475845337\n"
          ]
        },
        {
          "metadata": {
            "tags": null
          },
          "name": "stderr",
          "output_type": "stream",
          "text": [
            "\r 79%|███████▉  | 79/100 [23:48<06:18, 18.04s/it]"
          ]
        },
        {
          "metadata": {
            "tags": null
          },
          "name": "stdout",
          "output_type": "stream",
          "text": [
            "Epoch Loss: 0.13210770240369832\n",
            "EPOCH: 79/100\n",
            "BATCH 1 Running Loss: 0.047285065054893494\n",
            "BATCH 101 Running Loss: 0.05687492713332176\n",
            "BATCH 201 Running Loss: 0.30811989307403564\n"
          ]
        },
        {
          "metadata": {
            "tags": null
          },
          "name": "stderr",
          "output_type": "stream",
          "text": [
            "\r 80%|████████  | 80/100 [24:06<05:59, 17.96s/it]"
          ]
        },
        {
          "metadata": {
            "tags": null
          },
          "name": "stdout",
          "output_type": "stream",
          "text": [
            "Epoch Loss: 0.12619288326153216\n",
            "EPOCH: 80/100\n",
            "BATCH 1 Running Loss: 0.0916064977645874\n",
            "BATCH 101 Running Loss: 0.0996989756822586\n",
            "BATCH 201 Running Loss: 0.15276190638542175\n"
          ]
        },
        {
          "metadata": {
            "tags": null
          },
          "name": "stderr",
          "output_type": "stream",
          "text": [
            "\r 81%|████████  | 81/100 [24:24<05:42, 18.01s/it]"
          ]
        },
        {
          "metadata": {
            "tags": null
          },
          "name": "stdout",
          "output_type": "stream",
          "text": [
            "Epoch Loss: 0.11932767349523755\n",
            "EPOCH: 81/100\n",
            "BATCH 1 Running Loss: 0.14599986374378204\n",
            "BATCH 101 Running Loss: 0.1350792944431305\n",
            "BATCH 201 Running Loss: 0.13192149996757507\n"
          ]
        },
        {
          "metadata": {
            "tags": null
          },
          "name": "stderr",
          "output_type": "stream",
          "text": [
            "\r 82%|████████▏ | 82/100 [24:42<05:24, 18.02s/it]"
          ]
        },
        {
          "metadata": {
            "tags": null
          },
          "name": "stdout",
          "output_type": "stream",
          "text": [
            "Epoch Loss: 0.1202244794593667\n",
            "EPOCH: 82/100\n",
            "BATCH 1 Running Loss: 0.0871492549777031\n",
            "BATCH 101 Running Loss: 0.08722376823425293\n",
            "BATCH 201 Running Loss: 0.2277582585811615\n"
          ]
        },
        {
          "metadata": {
            "tags": null
          },
          "name": "stderr",
          "output_type": "stream",
          "text": [
            "\r 83%|████████▎ | 83/100 [25:01<05:09, 18.19s/it]"
          ]
        },
        {
          "metadata": {
            "tags": null
          },
          "name": "stdout",
          "output_type": "stream",
          "text": [
            "Epoch Loss: 0.11630513493744832\n",
            "EPOCH: 83/100\n",
            "BATCH 1 Running Loss: 0.06901968270540237\n",
            "BATCH 101 Running Loss: 0.10494282096624374\n",
            "BATCH 201 Running Loss: 0.1417122185230255\n"
          ]
        },
        {
          "metadata": {
            "tags": null
          },
          "name": "stderr",
          "output_type": "stream",
          "text": [
            "\r 84%|████████▍ | 84/100 [25:19<04:50, 18.14s/it]"
          ]
        },
        {
          "metadata": {
            "tags": null
          },
          "name": "stdout",
          "output_type": "stream",
          "text": [
            "Epoch Loss: 0.11740649022021384\n",
            "EPOCH: 84/100\n",
            "BATCH 1 Running Loss: 0.09653352946043015\n",
            "BATCH 101 Running Loss: 0.19636669754981995\n",
            "BATCH 201 Running Loss: 0.07805442065000534\n"
          ]
        },
        {
          "metadata": {
            "tags": null
          },
          "name": "stderr",
          "output_type": "stream",
          "text": [
            "\r 85%|████████▌ | 85/100 [25:37<04:32, 18.14s/it]"
          ]
        },
        {
          "metadata": {
            "tags": null
          },
          "name": "stdout",
          "output_type": "stream",
          "text": [
            "Epoch Loss: 0.12451827798811894\n",
            "EPOCH: 85/100\n",
            "BATCH 1 Running Loss: 0.1257491111755371\n",
            "BATCH 101 Running Loss: 0.09761016815900803\n",
            "BATCH 201 Running Loss: 0.07539618015289307\n"
          ]
        },
        {
          "metadata": {
            "tags": null
          },
          "name": "stderr",
          "output_type": "stream",
          "text": [
            "\r 86%|████████▌ | 86/100 [25:54<04:12, 18.02s/it]"
          ]
        },
        {
          "metadata": {
            "tags": null
          },
          "name": "stdout",
          "output_type": "stream",
          "text": [
            "Epoch Loss: 0.12866407121127507\n",
            "EPOCH: 86/100\n",
            "BATCH 1 Running Loss: 0.08672027289867401\n",
            "BATCH 101 Running Loss: 0.15617240965366364\n",
            "BATCH 201 Running Loss: 0.11667228490114212\n"
          ]
        },
        {
          "metadata": {
            "tags": null
          },
          "name": "stderr",
          "output_type": "stream",
          "text": [
            "\r 87%|████████▋ | 87/100 [26:12<03:54, 18.01s/it]"
          ]
        },
        {
          "metadata": {
            "tags": null
          },
          "name": "stdout",
          "output_type": "stream",
          "text": [
            "Epoch Loss: 0.1255379012100539\n",
            "EPOCH: 87/100\n",
            "BATCH 1 Running Loss: 0.04655832052230835\n",
            "BATCH 101 Running Loss: 0.1418692022562027\n",
            "BATCH 201 Running Loss: 0.07423700392246246\n"
          ]
        },
        {
          "metadata": {
            "tags": null
          },
          "name": "stderr",
          "output_type": "stream",
          "text": [
            "\r 88%|████████▊ | 88/100 [26:30<03:36, 18.01s/it]"
          ]
        },
        {
          "metadata": {
            "tags": null
          },
          "name": "stdout",
          "output_type": "stream",
          "text": [
            "Epoch Loss: 0.12113140385668232\n",
            "EPOCH: 88/100\n",
            "BATCH 1 Running Loss: 0.06326315551996231\n",
            "BATCH 101 Running Loss: 0.10991743206977844\n",
            "BATCH 201 Running Loss: 0.1350046992301941\n"
          ]
        },
        {
          "metadata": {
            "tags": null
          },
          "name": "stderr",
          "output_type": "stream",
          "text": [
            "\r 89%|████████▉ | 89/100 [26:48<03:16, 17.90s/it]"
          ]
        },
        {
          "metadata": {
            "tags": null
          },
          "name": "stdout",
          "output_type": "stream",
          "text": [
            "Epoch Loss: 0.11865905742600279\n",
            "EPOCH: 89/100\n",
            "BATCH 1 Running Loss: 0.03804761543869972\n",
            "BATCH 101 Running Loss: 0.13442841172218323\n",
            "BATCH 201 Running Loss: 0.2104654312133789\n"
          ]
        },
        {
          "metadata": {
            "tags": null
          },
          "name": "stderr",
          "output_type": "stream",
          "text": [
            "\r 90%|█████████ | 90/100 [27:06<02:59, 17.96s/it]"
          ]
        },
        {
          "metadata": {
            "tags": null
          },
          "name": "stdout",
          "output_type": "stream",
          "text": [
            "Epoch Loss: 0.12096148433409772\n",
            "EPOCH: 90/100\n",
            "BATCH 1 Running Loss: 0.09529949724674225\n",
            "BATCH 101 Running Loss: 0.07775138318538666\n",
            "BATCH 201 Running Loss: 0.13879160583019257\n"
          ]
        },
        {
          "metadata": {
            "tags": null
          },
          "name": "stderr",
          "output_type": "stream",
          "text": [
            "\r 91%|█████████ | 91/100 [27:24<02:42, 18.05s/it]"
          ]
        },
        {
          "metadata": {
            "tags": null
          },
          "name": "stdout",
          "output_type": "stream",
          "text": [
            "Epoch Loss: 0.1229892188507431\n",
            "EPOCH: 91/100\n",
            "BATCH 1 Running Loss: 0.09057151526212692\n",
            "BATCH 101 Running Loss: 0.03735196962952614\n",
            "BATCH 201 Running Loss: 0.14765392243862152\n"
          ]
        },
        {
          "metadata": {
            "tags": null
          },
          "name": "stderr",
          "output_type": "stream",
          "text": [
            "\r 92%|█████████▏| 92/100 [27:42<02:23, 18.00s/it]"
          ]
        },
        {
          "metadata": {
            "tags": null
          },
          "name": "stdout",
          "output_type": "stream",
          "text": [
            "Epoch Loss: 0.11699812896549702\n",
            "EPOCH: 92/100\n",
            "BATCH 1 Running Loss: 0.06498172879219055\n",
            "BATCH 101 Running Loss: 0.09624183177947998\n",
            "BATCH 201 Running Loss: 0.08145679533481598\n"
          ]
        },
        {
          "metadata": {
            "tags": null
          },
          "name": "stderr",
          "output_type": "stream",
          "text": [
            "\r 93%|█████████▎| 93/100 [28:00<02:06, 18.04s/it]"
          ]
        },
        {
          "metadata": {
            "tags": null
          },
          "name": "stdout",
          "output_type": "stream",
          "text": [
            "Epoch Loss: 0.12399602638522408\n",
            "EPOCH: 93/100\n",
            "BATCH 1 Running Loss: 0.050273746252059937\n",
            "BATCH 101 Running Loss: 0.037420570850372314\n",
            "BATCH 201 Running Loss: 0.10875403881072998\n"
          ]
        },
        {
          "metadata": {
            "tags": null
          },
          "name": "stderr",
          "output_type": "stream",
          "text": [
            "\r 94%|█████████▍| 94/100 [28:18<01:47, 17.94s/it]"
          ]
        },
        {
          "metadata": {
            "tags": null
          },
          "name": "stdout",
          "output_type": "stream",
          "text": [
            "Epoch Loss: 0.12188960115583437\n",
            "EPOCH: 94/100\n",
            "BATCH 1 Running Loss: 0.0724748894572258\n",
            "BATCH 101 Running Loss: 0.14235931634902954\n",
            "BATCH 201 Running Loss: 0.28415176272392273\n"
          ]
        },
        {
          "metadata": {
            "tags": null
          },
          "name": "stderr",
          "output_type": "stream",
          "text": [
            "\r 95%|█████████▌| 95/100 [28:36<01:29, 17.90s/it]"
          ]
        },
        {
          "metadata": {
            "tags": null
          },
          "name": "stdout",
          "output_type": "stream",
          "text": [
            "Epoch Loss: 0.11285816481653249\n",
            "EPOCH: 95/100\n",
            "BATCH 1 Running Loss: 0.1268717348575592\n",
            "BATCH 101 Running Loss: 0.0915333479642868\n",
            "BATCH 201 Running Loss: 0.1518465131521225\n"
          ]
        },
        {
          "metadata": {
            "tags": null
          },
          "name": "stderr",
          "output_type": "stream",
          "text": [
            "\r 96%|█████████▌| 96/100 [28:54<01:12, 18.01s/it]"
          ]
        },
        {
          "output_type": "stream",
          "name": "stdout",
          "text": [
            "Epoch Loss: 0.1165649922037462\n",
            "EPOCH: 96/100\n",
            "BATCH 1 Running Loss: 0.10658812522888184\n",
            "BATCH 101 Running Loss: 0.1172109916806221\n",
            "BATCH 201 Running Loss: 0.12732753157615662\n"
          ]
        },
        {
          "output_type": "stream",
          "name": "stderr",
          "text": [
            "\r 97%|█████████▋| 97/100 [29:12<00:53, 17.95s/it]"
          ]
        },
        {
          "output_type": "stream",
          "name": "stdout",
          "text": [
            "Epoch Loss: 0.1213582040355453\n",
            "EPOCH: 97/100\n",
            "BATCH 1 Running Loss: 0.1688421368598938\n",
            "BATCH 101 Running Loss: 0.07285673916339874\n",
            "BATCH 201 Running Loss: 0.15702897310256958\n"
          ]
        },
        {
          "output_type": "stream",
          "name": "stderr",
          "text": [
            "\r 98%|█████████▊| 98/100 [29:30<00:35, 17.91s/it]"
          ]
        },
        {
          "output_type": "stream",
          "name": "stdout",
          "text": [
            "Epoch Loss: 0.12059677110387469\n",
            "EPOCH: 98/100\n",
            "BATCH 1 Running Loss: 0.0499076209962368\n",
            "BATCH 101 Running Loss: 0.036566611379384995\n",
            "BATCH 201 Running Loss: 0.10609625279903412\n"
          ]
        },
        {
          "output_type": "stream",
          "name": "stderr",
          "text": [
            "\r 99%|█████████▉| 99/100 [29:48<00:17, 17.99s/it]"
          ]
        },
        {
          "output_type": "stream",
          "name": "stdout",
          "text": [
            "Epoch Loss: 0.12550743781733062\n",
            "EPOCH: 99/100\n",
            "BATCH 1 Running Loss: 0.08940045535564423\n",
            "BATCH 101 Running Loss: 0.07910189777612686\n",
            "BATCH 201 Running Loss: 0.12410998344421387\n"
          ]
        },
        {
          "output_type": "stream",
          "name": "stderr",
          "text": [
            "100%|██████████| 100/100 [30:07<00:00, 18.07s/it]"
          ]
        },
        {
          "output_type": "stream",
          "name": "stdout",
          "text": [
            "Epoch Loss: 0.12065001809090939\n"
          ]
        },
        {
          "output_type": "stream",
          "name": "stderr",
          "text": [
            "\n"
          ]
        }
      ]
    },
    {
      "cell_type": "code",
      "source": [
        "torch.cuda.is_available()"
      ],
      "metadata": {
        "colab": {
          "base_uri": "https://localhost:8080/"
        },
        "id": "WAYSf3yevohY",
        "outputId": "902b4c87-9f95-4a0a-8033-9671327c7079"
      },
      "execution_count": null,
      "outputs": [
        {
          "output_type": "execute_result",
          "data": {
            "text/plain": [
              "True"
            ]
          },
          "metadata": {},
          "execution_count": 18
        }
      ]
    },
    {
      "cell_type": "code",
      "source": [
        "device"
      ],
      "metadata": {
        "colab": {
          "base_uri": "https://localhost:8080/",
          "height": 35
        },
        "id": "Ig-S4hVYvyeK",
        "outputId": "efd39a19-3170-4d37-ab49-9f8ded3c13ee"
      },
      "execution_count": null,
      "outputs": [
        {
          "output_type": "execute_result",
          "data": {
            "text/plain": [
              "'cuda'"
            ],
            "application/vnd.google.colaboratory.intrinsic+json": {
              "type": "string"
            }
          },
          "metadata": {},
          "execution_count": 19
        }
      ]
    },
    {
      "cell_type": "code",
      "source": [],
      "metadata": {
        "id": "o7l5F1cbxMCr"
      },
      "execution_count": null,
      "outputs": []
    }
  ]
}